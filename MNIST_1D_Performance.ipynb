{
 "cells": [
  {
   "cell_type": "markdown",
   "metadata": {
    "colab_type": "text",
    "id": "view-in-github"
   },
   "source": [
    "<a href=\"https://colab.research.google.com/github/udlbook/udlbook/blob/main/Notebooks/Chap08/8_1_MNIST_1D_Performance.ipynb\" target=\"_parent\"><img src=\"https://colab.research.google.com/assets/colab-badge.svg\" alt=\"Open In Colab\"/></a>"
   ]
  },
  {
   "cell_type": "markdown",
   "metadata": {
    "id": "L6chybAVFJW2"
   },
   "source": [
    "# **Notebook 8.1: MNIST_1D_Performance**"
   ]
  },
  {
   "cell_type": "code",
   "execution_count": 1,
   "metadata": {
    "id": "ifVjS4cTOqKz"
   },
   "outputs": [
    {
     "name": "stdout",
     "output_type": "stream",
     "text": [
      "Collecting git+https://github.com/greydanus/mnist1d\n",
      "  Cloning https://github.com/greydanus/mnist1d to /private/var/folders/yk/83x2smm96b9_trlwmwsyv1g00000gn/T/pip-req-build-c3v7o69k\n",
      "  Running command git clone --filter=blob:none --quiet https://github.com/greydanus/mnist1d /private/var/folders/yk/83x2smm96b9_trlwmwsyv1g00000gn/T/pip-req-build-c3v7o69k\n",
      "  Resolved https://github.com/greydanus/mnist1d to commit 7878d96082abd200c546a07a4101fa90b30fdf7e\n",
      "  Installing build dependencies ... \u001b[?25ldone\n",
      "\u001b[?25h  Getting requirements to build wheel ... \u001b[?25ldone\n",
      "\u001b[?25h  Preparing metadata (pyproject.toml) ... \u001b[?25ldone\n",
      "\u001b[?25hRequirement already satisfied: requests in /Users/conkey/anaconda3/lib/python3.10/site-packages (from mnist1d==0.0.2.post16) (2.31.0)\n",
      "Requirement already satisfied: numpy in /Users/conkey/anaconda3/lib/python3.10/site-packages (from mnist1d==0.0.2.post16) (1.26.0)\n",
      "Requirement already satisfied: matplotlib in /Users/conkey/anaconda3/lib/python3.10/site-packages (from mnist1d==0.0.2.post16) (3.8.0)\n",
      "Requirement already satisfied: scipy in /Users/conkey/anaconda3/lib/python3.10/site-packages (from mnist1d==0.0.2.post16) (1.11.3)\n",
      "Requirement already satisfied: contourpy>=1.0.1 in /Users/conkey/anaconda3/lib/python3.10/site-packages (from matplotlib->mnist1d==0.0.2.post16) (1.1.1)\n",
      "Requirement already satisfied: cycler>=0.10 in /Users/conkey/anaconda3/lib/python3.10/site-packages (from matplotlib->mnist1d==0.0.2.post16) (0.11.0)\n",
      "Requirement already satisfied: fonttools>=4.22.0 in /Users/conkey/anaconda3/lib/python3.10/site-packages (from matplotlib->mnist1d==0.0.2.post16) (4.43.1)\n",
      "Requirement already satisfied: kiwisolver>=1.0.1 in /Users/conkey/anaconda3/lib/python3.10/site-packages (from matplotlib->mnist1d==0.0.2.post16) (1.4.4)\n",
      "Requirement already satisfied: packaging>=20.0 in /Users/conkey/anaconda3/lib/python3.10/site-packages (from matplotlib->mnist1d==0.0.2.post16) (23.1)\n",
      "Requirement already satisfied: pillow>=6.2.0 in /Users/conkey/anaconda3/lib/python3.10/site-packages (from matplotlib->mnist1d==0.0.2.post16) (11.1.0)\n",
      "Requirement already satisfied: pyparsing>=2.3.1 in /Users/conkey/anaconda3/lib/python3.10/site-packages (from matplotlib->mnist1d==0.0.2.post16) (3.0.9)\n",
      "Requirement already satisfied: python-dateutil>=2.7 in /Users/conkey/anaconda3/lib/python3.10/site-packages (from matplotlib->mnist1d==0.0.2.post16) (2.8.2)\n",
      "Requirement already satisfied: charset-normalizer<4,>=2 in /Users/conkey/anaconda3/lib/python3.10/site-packages (from requests->mnist1d==0.0.2.post16) (2.0.4)\n",
      "Requirement already satisfied: idna<4,>=2.5 in /Users/conkey/anaconda3/lib/python3.10/site-packages (from requests->mnist1d==0.0.2.post16) (3.4)\n",
      "Requirement already satisfied: urllib3<3,>=1.21.1 in /Users/conkey/anaconda3/lib/python3.10/site-packages (from requests->mnist1d==0.0.2.post16) (1.26.16)\n",
      "Requirement already satisfied: certifi>=2017.4.17 in /Users/conkey/anaconda3/lib/python3.10/site-packages (from requests->mnist1d==0.0.2.post16) (2024.7.4)\n",
      "Requirement already satisfied: six>=1.5 in /Users/conkey/anaconda3/lib/python3.10/site-packages (from python-dateutil>=2.7->matplotlib->mnist1d==0.0.2.post16) (1.15.0)\n",
      "Building wheels for collected packages: mnist1d\n",
      "  Building wheel for mnist1d (pyproject.toml) ... \u001b[?25ldone\n",
      "\u001b[?25h  Created wheel for mnist1d: filename=mnist1d-0.0.2.post16-py3-none-any.whl size=14663 sha256=69b7cc78b66b51710599c8e8d15cfec8391abb9efe0e8793b34e8f76dbcc5a96\n",
      "  Stored in directory: /private/var/folders/yk/83x2smm96b9_trlwmwsyv1g00000gn/T/pip-ephem-wheel-cache-ziob2xgf/wheels/41/95/55/45fcf7d38cfa97e35682da6c5017d4513729131326ce935371\n",
      "Successfully built mnist1d\n",
      "Installing collected packages: mnist1d\n",
      "  Attempting uninstall: mnist1d\n",
      "    Found existing installation: mnist1d 0.0.2.post1\n",
      "    Uninstalling mnist1d-0.0.2.post1:\n",
      "      Successfully uninstalled mnist1d-0.0.2.post1\n",
      "Successfully installed mnist1d-0.0.2.post16\n",
      "Note: you may need to restart the kernel to use updated packages.\n"
     ]
    }
   ],
   "source": [
    "# Run this if you're in a Colab to install MNIST 1D repository\n",
    "%pip install git+https://github.com/greydanus/mnist1d"
   ]
  },
  {
   "cell_type": "code",
   "execution_count": 2,
   "metadata": {
    "id": "qyE7G1StPIqO"
   },
   "outputs": [],
   "source": [
    "import torch, torch.nn as nn\n",
    "from torch.utils.data import TensorDataset, DataLoader\n",
    "from torch.optim.lr_scheduler import StepLR\n",
    "import numpy as np\n",
    "import matplotlib.pyplot as plt\n",
    "import mnist1d"
   ]
  },
  {
   "cell_type": "markdown",
   "metadata": {
    "id": "F7LNq72SP6jO"
   },
   "source": [
    "Let's generate a training and test dataset using the MNIST1D code.  The dataset gets saved as a .pkl file so it doesn't have to be regenerated each time."
   ]
  },
  {
   "cell_type": "code",
   "execution_count": 3,
   "metadata": {
    "id": "YLxf7dJfPaqw"
   },
   "outputs": [
    {
     "name": "stdout",
     "output_type": "stream",
     "text": [
      "Did or could not load data from ./mnist1d_data.pkl. Rebuilding dataset...\n",
      "Examples in training set: 4000\n",
      "Examples in test set: 1000\n",
      "Length of each example: 40\n"
     ]
    }
   ],
   "source": [
    "args = mnist1d.data.get_dataset_args()\n",
    "data = mnist1d.data.get_dataset(args, path='./mnist1d_data.pkl', download=False, regenerate=False)\n",
    "\n",
    "# The training and test input and outputs are in\n",
    "# data['x'], data['y'], data['x_test'], and data['y_test']\n",
    "print(\"Examples in training set: {}\".format(len(data['y'])))\n",
    "print(\"Examples in test set: {}\".format(len(data['y_test'])))\n",
    "print(\"Length of each example: {}\".format(data['x'].shape[-1]))"
   ]
  },
  {
   "cell_type": "code",
   "execution_count": 4,
   "metadata": {},
   "outputs": [
    {
     "data": {
      "text/plain": [
       "Sequential(\n",
       "  (0): Linear(in_features=40, out_features=100, bias=True)\n",
       "  (1): ReLU()\n",
       "  (2): Linear(in_features=100, out_features=100, bias=True)\n",
       "  (3): ReLU()\n",
       "  (4): Linear(in_features=100, out_features=10, bias=True)\n",
       ")"
      ]
     },
     "execution_count": 4,
     "metadata": {},
     "output_type": "execute_result"
    }
   ],
   "source": [
    "import torch\n",
    "\n",
    "D_i = 40    # Input dimensions\n",
    "D_k = 100   # Hidden dimensions\n",
    "D_o = 10    # Output dimensions\n",
    "\n",
    "# Define the model architecture\n",
    "model = torch.nn.Sequential(\n",
    "    torch.nn.Linear(D_i, D_k),\n",
    "    torch.nn.ReLU(),\n",
    "    torch.nn.Linear(D_k, D_k),\n",
    "    torch.nn.ReLU(),\n",
    "    torch.nn.Linear(D_k, D_o)\n",
    ")\n",
    "\n",
    "# He (Kaiming) initialization function\n",
    "def weights_init(layer_in):\n",
    "    if isinstance(layer_in, torch.nn.Linear):\n",
    "        torch.nn.init.kaiming_normal_(layer_in.weight, nonlinearity='relu')\n",
    "        if layer_in.bias is not None:\n",
    "            torch.nn.init.zeros_(layer_in.bias)\n",
    "\n",
    "# Apply initialization to the model\n",
    "model.apply(weights_init)\n"
   ]
  },
  {
   "cell_type": "code",
   "execution_count": 17,
   "metadata": {
    "id": "_rX6N3VyyQTY"
   },
   "outputs": [
    {
     "name": "stdout",
     "output_type": "stream",
     "text": [
      "Epoch     0, train loss 1.512309, train error 57.88,  test loss 1.601539, test error 62.30\n",
      "Epoch     1, train loss 1.245104, train error 48.17,  test loss 1.402720, test error 54.10\n",
      "Epoch     2, train loss 1.080516, train error 41.88,  test loss 1.320112, test error 51.20\n",
      "Epoch     3, train loss 0.917308, train error 34.47,  test loss 1.148519, test error 44.00\n",
      "Epoch     4, train loss 0.855823, train error 32.12,  test loss 1.124519, test error 45.20\n",
      "Epoch     5, train loss 0.843626, train error 31.82,  test loss 1.221726, test error 46.80\n",
      "Epoch     6, train loss 0.713918, train error 26.65,  test loss 1.080489, test error 40.10\n",
      "Epoch     7, train loss 0.682917, train error 25.28,  test loss 1.201733, test error 40.40\n",
      "Epoch     8, train loss 0.655566, train error 24.88,  test loss 1.205445, test error 40.00\n",
      "Epoch     9, train loss 0.655688, train error 22.88,  test loss 1.206235, test error 40.30\n",
      "Epoch    10, train loss 0.287418, train error 9.97,  test loss 1.069204, test error 34.00\n",
      "Epoch    11, train loss 0.229653, train error 7.75,  test loss 1.015749, test error 32.30\n",
      "Epoch    12, train loss 0.180396, train error 6.22,  test loss 1.068100, test error 31.70\n",
      "Epoch    13, train loss 0.148065, train error 4.55,  test loss 1.132284, test error 33.10\n",
      "Epoch    14, train loss 0.132767, train error 4.18,  test loss 1.182709, test error 32.20\n",
      "Epoch    15, train loss 0.097245, train error 2.53,  test loss 1.133258, test error 30.80\n",
      "Epoch    16, train loss 0.066281, train error 1.28,  test loss 1.201156, test error 30.40\n",
      "Epoch    17, train loss 0.060086, train error 1.07,  test loss 1.275814, test error 29.30\n",
      "Epoch    18, train loss 0.043813, train error 0.62,  test loss 1.312887, test error 30.60\n",
      "Epoch    19, train loss 0.031230, train error 0.25,  test loss 1.348818, test error 29.90\n",
      "Epoch    20, train loss 0.020766, train error 0.03,  test loss 1.341086, test error 29.20\n",
      "Epoch    21, train loss 0.017748, train error 0.03,  test loss 1.369004, test error 29.00\n",
      "Epoch    22, train loss 0.016940, train error 0.05,  test loss 1.383036, test error 28.40\n",
      "Epoch    23, train loss 0.014716, train error 0.00,  test loss 1.398269, test error 28.70\n",
      "Epoch    24, train loss 0.013523, train error 0.00,  test loss 1.412777, test error 28.40\n",
      "Epoch    25, train loss 0.012450, train error 0.00,  test loss 1.429307, test error 28.90\n",
      "Epoch    26, train loss 0.011785, train error 0.00,  test loss 1.448619, test error 28.40\n",
      "Epoch    27, train loss 0.010897, train error 0.00,  test loss 1.459453, test error 28.80\n",
      "Epoch    28, train loss 0.010215, train error 0.00,  test loss 1.473982, test error 29.00\n",
      "Epoch    29, train loss 0.009673, train error 0.00,  test loss 1.485337, test error 29.10\n",
      "Epoch    30, train loss 0.009334, train error 0.00,  test loss 1.490760, test error 29.60\n",
      "Epoch    31, train loss 0.009076, train error 0.00,  test loss 1.499162, test error 29.40\n",
      "Epoch    32, train loss 0.008840, train error 0.00,  test loss 1.504700, test error 29.50\n",
      "Epoch    33, train loss 0.008631, train error 0.00,  test loss 1.510193, test error 29.30\n",
      "Epoch    34, train loss 0.008419, train error 0.00,  test loss 1.515633, test error 29.30\n",
      "Epoch    35, train loss 0.008225, train error 0.00,  test loss 1.520356, test error 29.30\n",
      "Epoch    36, train loss 0.008030, train error 0.00,  test loss 1.528315, test error 29.10\n",
      "Epoch    37, train loss 0.007865, train error 0.00,  test loss 1.534021, test error 29.10\n",
      "Epoch    38, train loss 0.007679, train error 0.00,  test loss 1.537542, test error 29.30\n",
      "Epoch    39, train loss 0.007517, train error 0.00,  test loss 1.542361, test error 29.60\n",
      "Epoch    40, train loss 0.007426, train error 0.00,  test loss 1.545437, test error 29.40\n",
      "Epoch    41, train loss 0.007347, train error 0.00,  test loss 1.548053, test error 29.30\n",
      "Epoch    42, train loss 0.007269, train error 0.00,  test loss 1.550619, test error 29.30\n",
      "Epoch    43, train loss 0.007195, train error 0.00,  test loss 1.553848, test error 29.10\n",
      "Epoch    44, train loss 0.007123, train error 0.00,  test loss 1.555710, test error 29.30\n",
      "Epoch    45, train loss 0.007051, train error 0.00,  test loss 1.557784, test error 29.30\n",
      "Epoch    46, train loss 0.006981, train error 0.00,  test loss 1.560442, test error 29.30\n",
      "Epoch    47, train loss 0.006913, train error 0.00,  test loss 1.562523, test error 29.20\n",
      "Epoch    48, train loss 0.006845, train error 0.00,  test loss 1.564749, test error 29.20\n",
      "Epoch    49, train loss 0.006778, train error 0.00,  test loss 1.567639, test error 29.30\n"
     ]
    }
   ],
   "source": [
    "# choose cross entropy loss function (equation 5.24)\n",
    "loss_function = torch.nn.CrossEntropyLoss()\n",
    "# construct SGD optimizer and initialize learning rate and momentum\n",
    "optimizer = torch.optim.SGD(model.parameters(), lr = 0.1, momentum=0.9)\n",
    "# object that decreases learning rate by half every 10 epochs\n",
    "scheduler = StepLR(optimizer, step_size=10, gamma=0.5)\n",
    "x_train = torch.tensor(data['x'].astype('float32'))\n",
    "y_train = torch.tensor(data['y'].transpose().astype('int64'))\n",
    "x_test= torch.tensor(data['x_test'].astype('float32'))\n",
    "y_test = torch.tensor(data['y_test'].astype('int64'))\n",
    "\n",
    "# load the data into a class that creates the batches\n",
    "data_loader = DataLoader(TensorDataset(x_train,y_train), batch_size=50, shuffle=True, worker_init_fn=np.random.seed(1))\n",
    "\n",
    "# Initialize model weights\n",
    "model.apply(weights_init)\n",
    "\n",
    "# loop over the dataset n_epoch times\n",
    "n_epoch = 50\n",
    "# store the loss and the % correct at each epoch\n",
    "losses_train = np.zeros((n_epoch))\n",
    "errors_train = np.zeros((n_epoch))\n",
    "losses_test = np.zeros((n_epoch))\n",
    "errors_test = np.zeros((n_epoch))\n",
    "\n",
    "for epoch in range(n_epoch):\n",
    "  # loop over batches\n",
    "  for i, batch in enumerate(data_loader):\n",
    "    # retrieve inputs and labels for this batch\n",
    "    x_batch, y_batch = batch\n",
    "    # zero the parameter gradients\n",
    "    optimizer.zero_grad()\n",
    "    # forward pass -- calculate model output\n",
    "    pred = model(x_batch)\n",
    "    # compute the loss\n",
    "    loss = loss_function(pred, y_batch)\n",
    "    # backward pass\n",
    "    loss.backward()\n",
    "    # SGD update\n",
    "    optimizer.step()\n",
    "\n",
    "  # Run whole dataset to get statistics -- normally wouldn't do this\n",
    "  pred_train = model(x_train)\n",
    "  pred_test = model(x_test)\n",
    "  _, predicted_train_class = torch.max(pred_train.data, 1)\n",
    "  _, predicted_test_class = torch.max(pred_test.data, 1)\n",
    "  errors_train[epoch] = 100 - 100 * (predicted_train_class == y_train).float().sum() / len(y_train)\n",
    "  errors_test[epoch]= 100 - 100 * (predicted_test_class == y_test).float().sum() / len(y_test)\n",
    "  losses_train[epoch] = loss_function(pred_train, y_train).item()\n",
    "  losses_test[epoch]= loss_function(pred_test, y_test).item()\n",
    "  print(f'Epoch {epoch:5d}, train loss {losses_train[epoch]:.6f}, train error {errors_train[epoch]:3.2f},  test loss {losses_test[epoch]:.6f}, test error {errors_test[epoch]:3.2f}')\n",
    "\n",
    "  # tell scheduler to consider updating learning rate\n",
    "  scheduler.step()"
   ]
  },
  {
   "cell_type": "code",
   "execution_count": 19,
   "metadata": {
    "id": "yI-l6kA_EH9G"
   },
   "outputs": [
    {
     "data": {
      "image/png": "[encoded data removed]",
      "text/plain": [
       "<Figure size 640x480 with 1 Axes>"
      ]
     },
     "metadata": {},
     "output_type": "display_data"
    },
    {
     "data": {
      "image/png": "[encoded data removed]",
      "text/plain": [
       "<Figure size 640x480 with 1 Axes>"
      ]
     },
     "metadata": {},
     "output_type": "display_data"
    }
   ],
   "source": [
    "# Plot the results\n",
    "fig, ax = plt.subplots()\n",
    "ax.plot(errors_train,'r-',label='train')\n",
    "ax.plot(errors_test,'b-',label='test')\n",
    "ax.set_ylim(0,100); ax.set_xlim(0,n_epoch)\n",
    "ax.set_xlabel('Epoch'); ax.set_ylabel('Error')\n",
    "ax.set_title('TrainError %3.2f, Test Error %3.2f'%(errors_train[-1],errors_test[-1]))\n",
    "ax.legend()\n",
    "plt.show()\n",
    "\n",
    "# Plot the results\n",
    "fig, ax = plt.subplots()\n",
    "ax.plot(losses_train,'r-',label='train')\n",
    "ax.plot(losses_test,'b-',label='test')\n",
    "ax.set_xlim(0,n_epoch)\n",
    "ax.set_xlabel('Epoch'); ax.set_ylabel('Loss')\n",
    "ax.set_title('Train loss %3.2f, Test loss %3.2f'%(losses_train[-1],losses_test[-1]))\n",
    "ax.legend()\n",
    "plt.show()"
   ]
  },
  {
   "cell_type": "markdown",
   "metadata": {
    "id": "q-yT6re6GZS4"
   },
   "source": [
    "**TODO**\n",
    "\n",
    "Play with the model -- try changing the number of layers, hidden units, learning rate, batch size, momentum or anything else you like.  See if you can improve the test results.\n",
    "\n",
    "Is it a good idea to optimize the hyperparameters in this way?  Will the final result be a good estimate of the true test performance?"
   ]
  }
 ],
 "metadata": {
  "accelerator": "GPU",
  "colab": {
   "authorship_tag": "ABX9TyOuKMUcKfOIhIL2qTX9jJCy",
   "gpuType": "T4",
   "include_colab_link": true,
   "provenance": []
  },
  "kernelspec": {
   "display_name": "Python 3 (ipykernel)",
   "language": "python",
   "name": "python3"
  },
  "language_info": {
   "codemirror_mode": {
    "name": "ipython",
    "version": 3
   },
   "file_extension": ".py",
   "mimetype": "text/x-python",
   "name": "python",
   "nbconvert_exporter": "python",
   "pygments_lexer": "ipython3",
   "version": "3.10.13"
  }
 },
 "nbformat": 4,
 "nbformat_minor": 4
}
